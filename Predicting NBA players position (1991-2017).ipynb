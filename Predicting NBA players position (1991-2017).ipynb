{
 "cells": [
  {
   "cell_type": "markdown",
   "metadata": {},
   "source": [
    "# Predicting NBA players position"
   ]
  },
  {
   "cell_type": "markdown",
   "metadata": {},
   "source": [
    "#### In this notebook I will use Machine Learning to predict the positions of NBA players."
   ]
  },
  {
   "cell_type": "markdown",
   "metadata": {},
   "source": [
    "PG: Point Guard<br>\n",
    "SG: Shooting Guard<br>\n",
    "SF: Small Forward<br>\n",
    "PF: Power Forward<br>\n",
    "C: Center<br>"
   ]
  },
  {
   "cell_type": "code",
   "execution_count": 1,
   "metadata": {
    "collapsed": true
   },
   "outputs": [],
   "source": [
    "# Importing libraries\n",
    "import numpy as np\n",
    "import pandas as pd\n",
    "import matplotlib.pyplot as plt\n",
    "import seaborn as sns\n",
    "\n",
    "# Importing the datasets\n",
    "players = pd.read_csv('nba-players-stats-since-1950/Players.csv', index_col = \"Unnamed: 0\")\n",
    "df = pd.read_csv('nba-players-stats-since-1950/Seasons_Stats.csv', index_col = \"Unnamed: 0\")\n",
    "stats = df[df['Year']>1990]"
   ]
  },
  {
   "cell_type": "code",
   "execution_count": 2,
   "metadata": {},
   "outputs": [
    {
     "data": {
      "text/html": [
       "<div>\n",
       "<style>\n",
       "    .dataframe thead tr:only-child th {\n",
       "        text-align: right;\n",
       "    }\n",
       "\n",
       "    .dataframe thead th {\n",
       "        text-align: left;\n",
       "    }\n",
       "\n",
       "    .dataframe tbody tr th {\n",
       "        vertical-align: top;\n",
       "    }\n",
       "</style>\n",
       "<table border=\"1\" class=\"dataframe\">\n",
       "  <thead>\n",
       "    <tr style=\"text-align: right;\">\n",
       "      <th></th>\n",
       "      <th>Player</th>\n",
       "      <th>height</th>\n",
       "      <th>weight</th>\n",
       "      <th>collage</th>\n",
       "      <th>born</th>\n",
       "      <th>birth_city</th>\n",
       "      <th>birth_state</th>\n",
       "    </tr>\n",
       "  </thead>\n",
       "  <tbody>\n",
       "    <tr>\n",
       "      <th>0</th>\n",
       "      <td>Curly Armstrong</td>\n",
       "      <td>180.0</td>\n",
       "      <td>77.0</td>\n",
       "      <td>Indiana University</td>\n",
       "      <td>1918.0</td>\n",
       "      <td>NaN</td>\n",
       "      <td>NaN</td>\n",
       "    </tr>\n",
       "    <tr>\n",
       "      <th>1</th>\n",
       "      <td>Cliff Barker</td>\n",
       "      <td>188.0</td>\n",
       "      <td>83.0</td>\n",
       "      <td>University of Kentucky</td>\n",
       "      <td>1921.0</td>\n",
       "      <td>Yorktown</td>\n",
       "      <td>Indiana</td>\n",
       "    </tr>\n",
       "    <tr>\n",
       "      <th>2</th>\n",
       "      <td>Leo Barnhorst</td>\n",
       "      <td>193.0</td>\n",
       "      <td>86.0</td>\n",
       "      <td>University of Notre Dame</td>\n",
       "      <td>1924.0</td>\n",
       "      <td>NaN</td>\n",
       "      <td>NaN</td>\n",
       "    </tr>\n",
       "    <tr>\n",
       "      <th>3</th>\n",
       "      <td>Ed Bartels</td>\n",
       "      <td>196.0</td>\n",
       "      <td>88.0</td>\n",
       "      <td>North Carolina State University</td>\n",
       "      <td>1925.0</td>\n",
       "      <td>NaN</td>\n",
       "      <td>NaN</td>\n",
       "    </tr>\n",
       "    <tr>\n",
       "      <th>4</th>\n",
       "      <td>Ralph Beard</td>\n",
       "      <td>178.0</td>\n",
       "      <td>79.0</td>\n",
       "      <td>University of Kentucky</td>\n",
       "      <td>1927.0</td>\n",
       "      <td>Hardinsburg</td>\n",
       "      <td>Kentucky</td>\n",
       "    </tr>\n",
       "  </tbody>\n",
       "</table>\n",
       "</div>"
      ],
      "text/plain": [
       "            Player  height  weight                          collage    born  \\\n",
       "0  Curly Armstrong   180.0    77.0               Indiana University  1918.0   \n",
       "1     Cliff Barker   188.0    83.0           University of Kentucky  1921.0   \n",
       "2    Leo Barnhorst   193.0    86.0         University of Notre Dame  1924.0   \n",
       "3       Ed Bartels   196.0    88.0  North Carolina State University  1925.0   \n",
       "4      Ralph Beard   178.0    79.0           University of Kentucky  1927.0   \n",
       "\n",
       "    birth_city birth_state  \n",
       "0          NaN         NaN  \n",
       "1     Yorktown     Indiana  \n",
       "2          NaN         NaN  \n",
       "3          NaN         NaN  \n",
       "4  Hardinsburg    Kentucky  "
      ]
     },
     "execution_count": 2,
     "metadata": {},
     "output_type": "execute_result"
    }
   ],
   "source": [
    "players.head()"
   ]
  },
  {
   "cell_type": "code",
   "execution_count": 3,
   "metadata": {},
   "outputs": [
    {
     "name": "stdout",
     "output_type": "stream",
     "text": [
      "<class 'pandas.core.frame.DataFrame'>\n",
      "Int64Index: 3922 entries, 0 to 3921\n",
      "Data columns (total 7 columns):\n",
      "Player         3921 non-null object\n",
      "height         3921 non-null float64\n",
      "weight         3921 non-null float64\n",
      "collage        3573 non-null object\n",
      "born           3921 non-null float64\n",
      "birth_city     3452 non-null object\n",
      "birth_state    3439 non-null object\n",
      "dtypes: float64(3), object(4)\n",
      "memory usage: 245.1+ KB\n"
     ]
    }
   ],
   "source": [
    "players.info()"
   ]
  },
  {
   "cell_type": "markdown",
   "metadata": {},
   "source": [
    "#### Let's check if two different players share the same name:"
   ]
  },
  {
   "cell_type": "code",
   "execution_count": 4,
   "metadata": {},
   "outputs": [
    {
     "data": {
      "text/plain": [
       "(array([], dtype=int64),)"
      ]
     },
     "execution_count": 4,
     "metadata": {},
     "output_type": "execute_result"
    }
   ],
   "source": [
    "np.where(players['Player'].value_counts()>1)"
   ]
  },
  {
   "cell_type": "code",
   "execution_count": 5,
   "metadata": {},
   "outputs": [
    {
     "data": {
      "text/html": [
       "<div>\n",
       "<style>\n",
       "    .dataframe thead tr:only-child th {\n",
       "        text-align: right;\n",
       "    }\n",
       "\n",
       "    .dataframe thead th {\n",
       "        text-align: left;\n",
       "    }\n",
       "\n",
       "    .dataframe tbody tr th {\n",
       "        vertical-align: top;\n",
       "    }\n",
       "</style>\n",
       "<table border=\"1\" class=\"dataframe\">\n",
       "  <thead>\n",
       "    <tr style=\"text-align: right;\">\n",
       "      <th></th>\n",
       "      <th>Year</th>\n",
       "      <th>Player</th>\n",
       "      <th>Pos</th>\n",
       "      <th>Age</th>\n",
       "      <th>Tm</th>\n",
       "      <th>G</th>\n",
       "      <th>GS</th>\n",
       "      <th>MP</th>\n",
       "      <th>PER</th>\n",
       "      <th>TS%</th>\n",
       "      <th>...</th>\n",
       "      <th>FT%</th>\n",
       "      <th>ORB</th>\n",
       "      <th>DRB</th>\n",
       "      <th>TRB</th>\n",
       "      <th>AST</th>\n",
       "      <th>STL</th>\n",
       "      <th>BLK</th>\n",
       "      <th>TOV</th>\n",
       "      <th>PF</th>\n",
       "      <th>PTS</th>\n",
       "    </tr>\n",
       "  </thead>\n",
       "  <tbody>\n",
       "    <tr>\n",
       "      <th>10007</th>\n",
       "      <td>1991.0</td>\n",
       "      <td>Alaa Abdelnaby</td>\n",
       "      <td>PF</td>\n",
       "      <td>22.0</td>\n",
       "      <td>POR</td>\n",
       "      <td>43.0</td>\n",
       "      <td>0.0</td>\n",
       "      <td>290.0</td>\n",
       "      <td>13.1</td>\n",
       "      <td>0.499</td>\n",
       "      <td>...</td>\n",
       "      <td>0.568</td>\n",
       "      <td>27.0</td>\n",
       "      <td>62.0</td>\n",
       "      <td>89.0</td>\n",
       "      <td>12.0</td>\n",
       "      <td>4.0</td>\n",
       "      <td>12.0</td>\n",
       "      <td>22.0</td>\n",
       "      <td>39.0</td>\n",
       "      <td>135.0</td>\n",
       "    </tr>\n",
       "    <tr>\n",
       "      <th>10008</th>\n",
       "      <td>1991.0</td>\n",
       "      <td>Mahmoud Abdul-Rauf</td>\n",
       "      <td>PG</td>\n",
       "      <td>21.0</td>\n",
       "      <td>DEN</td>\n",
       "      <td>67.0</td>\n",
       "      <td>19.0</td>\n",
       "      <td>1505.0</td>\n",
       "      <td>12.2</td>\n",
       "      <td>0.448</td>\n",
       "      <td>...</td>\n",
       "      <td>0.857</td>\n",
       "      <td>34.0</td>\n",
       "      <td>87.0</td>\n",
       "      <td>121.0</td>\n",
       "      <td>206.0</td>\n",
       "      <td>55.0</td>\n",
       "      <td>4.0</td>\n",
       "      <td>110.0</td>\n",
       "      <td>149.0</td>\n",
       "      <td>942.0</td>\n",
       "    </tr>\n",
       "    <tr>\n",
       "      <th>10009</th>\n",
       "      <td>1991.0</td>\n",
       "      <td>Mark Acres</td>\n",
       "      <td>C</td>\n",
       "      <td>28.0</td>\n",
       "      <td>ORL</td>\n",
       "      <td>68.0</td>\n",
       "      <td>0.0</td>\n",
       "      <td>1313.0</td>\n",
       "      <td>9.2</td>\n",
       "      <td>0.551</td>\n",
       "      <td>...</td>\n",
       "      <td>0.653</td>\n",
       "      <td>140.0</td>\n",
       "      <td>219.0</td>\n",
       "      <td>359.0</td>\n",
       "      <td>25.0</td>\n",
       "      <td>25.0</td>\n",
       "      <td>25.0</td>\n",
       "      <td>42.0</td>\n",
       "      <td>218.0</td>\n",
       "      <td>285.0</td>\n",
       "    </tr>\n",
       "    <tr>\n",
       "      <th>10010</th>\n",
       "      <td>1991.0</td>\n",
       "      <td>Michael Adams</td>\n",
       "      <td>PG</td>\n",
       "      <td>28.0</td>\n",
       "      <td>DEN</td>\n",
       "      <td>66.0</td>\n",
       "      <td>66.0</td>\n",
       "      <td>2346.0</td>\n",
       "      <td>22.3</td>\n",
       "      <td>0.530</td>\n",
       "      <td>...</td>\n",
       "      <td>0.879</td>\n",
       "      <td>58.0</td>\n",
       "      <td>198.0</td>\n",
       "      <td>256.0</td>\n",
       "      <td>693.0</td>\n",
       "      <td>147.0</td>\n",
       "      <td>6.0</td>\n",
       "      <td>240.0</td>\n",
       "      <td>162.0</td>\n",
       "      <td>1752.0</td>\n",
       "    </tr>\n",
       "    <tr>\n",
       "      <th>10011</th>\n",
       "      <td>1991.0</td>\n",
       "      <td>Mark Aguirre</td>\n",
       "      <td>SF</td>\n",
       "      <td>31.0</td>\n",
       "      <td>DET</td>\n",
       "      <td>78.0</td>\n",
       "      <td>13.0</td>\n",
       "      <td>2006.0</td>\n",
       "      <td>16.7</td>\n",
       "      <td>0.526</td>\n",
       "      <td>...</td>\n",
       "      <td>0.757</td>\n",
       "      <td>134.0</td>\n",
       "      <td>240.0</td>\n",
       "      <td>374.0</td>\n",
       "      <td>139.0</td>\n",
       "      <td>47.0</td>\n",
       "      <td>20.0</td>\n",
       "      <td>128.0</td>\n",
       "      <td>209.0</td>\n",
       "      <td>1104.0</td>\n",
       "    </tr>\n",
       "  </tbody>\n",
       "</table>\n",
       "<p>5 rows × 52 columns</p>\n",
       "</div>"
      ],
      "text/plain": [
       "         Year              Player Pos   Age   Tm     G    GS      MP   PER  \\\n",
       "10007  1991.0      Alaa Abdelnaby  PF  22.0  POR  43.0   0.0   290.0  13.1   \n",
       "10008  1991.0  Mahmoud Abdul-Rauf  PG  21.0  DEN  67.0  19.0  1505.0  12.2   \n",
       "10009  1991.0          Mark Acres   C  28.0  ORL  68.0   0.0  1313.0   9.2   \n",
       "10010  1991.0       Michael Adams  PG  28.0  DEN  66.0  66.0  2346.0  22.3   \n",
       "10011  1991.0        Mark Aguirre  SF  31.0  DET  78.0  13.0  2006.0  16.7   \n",
       "\n",
       "         TS%   ...      FT%    ORB    DRB    TRB    AST    STL   BLK    TOV  \\\n",
       "10007  0.499   ...    0.568   27.0   62.0   89.0   12.0    4.0  12.0   22.0   \n",
       "10008  0.448   ...    0.857   34.0   87.0  121.0  206.0   55.0   4.0  110.0   \n",
       "10009  0.551   ...    0.653  140.0  219.0  359.0   25.0   25.0  25.0   42.0   \n",
       "10010  0.530   ...    0.879   58.0  198.0  256.0  693.0  147.0   6.0  240.0   \n",
       "10011  0.526   ...    0.757  134.0  240.0  374.0  139.0   47.0  20.0  128.0   \n",
       "\n",
       "          PF     PTS  \n",
       "10007   39.0   135.0  \n",
       "10008  149.0   942.0  \n",
       "10009  218.0   285.0  \n",
       "10010  162.0  1752.0  \n",
       "10011  209.0  1104.0  \n",
       "\n",
       "[5 rows x 52 columns]"
      ]
     },
     "execution_count": 5,
     "metadata": {},
     "output_type": "execute_result"
    }
   ],
   "source": [
    "stats.head()"
   ]
  },
  {
   "cell_type": "code",
   "execution_count": 6,
   "metadata": {
    "collapsed": true
   },
   "outputs": [],
   "source": [
    "stats = stats.reset_index(drop=True)"
   ]
  },
  {
   "cell_type": "code",
   "execution_count": 7,
   "metadata": {},
   "outputs": [
    {
     "data": {
      "text/plain": [
       "(14658, 52)"
      ]
     },
     "execution_count": 7,
     "metadata": {},
     "output_type": "execute_result"
    }
   ],
   "source": [
    "stats.shape"
   ]
  },
  {
   "cell_type": "code",
   "execution_count": 8,
   "metadata": {
    "scrolled": true
   },
   "outputs": [
    {
     "name": "stdout",
     "output_type": "stream",
     "text": [
      "<class 'pandas.core.frame.DataFrame'>\n",
      "RangeIndex: 14658 entries, 0 to 14657\n",
      "Data columns (total 52 columns):\n",
      "Year      14658 non-null float64\n",
      "Player    14658 non-null object\n",
      "Pos       14658 non-null object\n",
      "Age       14658 non-null float64\n",
      "Tm        14658 non-null object\n",
      "G         14658 non-null float64\n",
      "GS        14658 non-null float64\n",
      "MP        14658 non-null float64\n",
      "PER       14653 non-null float64\n",
      "TS%       14588 non-null float64\n",
      "3PAr      14581 non-null float64\n",
      "FTr       14581 non-null float64\n",
      "ORB%      14653 non-null float64\n",
      "DRB%      14653 non-null float64\n",
      "TRB%      14653 non-null float64\n",
      "AST%      14653 non-null float64\n",
      "STL%      14653 non-null float64\n",
      "BLK%      14653 non-null float64\n",
      "TOV%      14601 non-null float64\n",
      "USG%      14653 non-null float64\n",
      "blanl     0 non-null float64\n",
      "OWS       14658 non-null float64\n",
      "DWS       14658 non-null float64\n",
      "WS        14658 non-null float64\n",
      "WS/48     14653 non-null float64\n",
      "blank2    0 non-null float64\n",
      "OBPM      14658 non-null float64\n",
      "DBPM      14658 non-null float64\n",
      "BPM       14658 non-null float64\n",
      "VORP      14658 non-null float64\n",
      "FG        14658 non-null float64\n",
      "FGA       14658 non-null float64\n",
      "FG%       14581 non-null float64\n",
      "3P        14658 non-null float64\n",
      "3PA       14658 non-null float64\n",
      "3P%       12056 non-null float64\n",
      "2P        14658 non-null float64\n",
      "2PA       14658 non-null float64\n",
      "2P%       14555 non-null float64\n",
      "eFG%      14581 non-null float64\n",
      "FT        14658 non-null float64\n",
      "FTA       14658 non-null float64\n",
      "FT%       14027 non-null float64\n",
      "ORB       14658 non-null float64\n",
      "DRB       14658 non-null float64\n",
      "TRB       14658 non-null float64\n",
      "AST       14658 non-null float64\n",
      "STL       14658 non-null float64\n",
      "BLK       14658 non-null float64\n",
      "TOV       14658 non-null float64\n",
      "PF        14658 non-null float64\n",
      "PTS       14658 non-null float64\n",
      "dtypes: float64(49), object(3)\n",
      "memory usage: 5.8+ MB\n"
     ]
    }
   ],
   "source": [
    "stats.info()"
   ]
  },
  {
   "cell_type": "code",
   "execution_count": 9,
   "metadata": {
    "collapsed": true
   },
   "outputs": [],
   "source": [
    "stats['Year'] = stats['Year'].astype(int);"
   ]
  },
  {
   "cell_type": "markdown",
   "metadata": {},
   "source": [
    "#### I will drop the players who played during a very short time per game (less than 5 min) as their stats might not be sufficient to predict their position."
   ]
  },
  {
   "cell_type": "code",
   "execution_count": 10,
   "metadata": {
    "collapsed": true
   },
   "outputs": [],
   "source": [
    "stats = stats[stats.MP/stats.G > 5]"
   ]
  },
  {
   "cell_type": "code",
   "execution_count": 11,
   "metadata": {},
   "outputs": [
    {
     "data": {
      "text/plain": [
       "(13744, 52)"
      ]
     },
     "execution_count": 11,
     "metadata": {},
     "output_type": "execute_result"
    }
   ],
   "source": [
    "stats.shape"
   ]
  },
  {
   "cell_type": "markdown",
   "metadata": {},
   "source": [
    "#### It is irrelevant to keep TOV%, FG%, 3P%, 2P%, eFG%, FT% and PTS as they are calculated using other data from the same player.\n",
    "#### The number of games started (GS) won't help to predict the position of the player as one player of each position usually begin the game. Neither will the number of games played (G).\n",
    "#### I will also get rid of the 'blanl' and the 'blank2' columns that are empty, and of the Tm column."
   ]
  },
  {
   "cell_type": "code",
   "execution_count": 12,
   "metadata": {
    "collapsed": true
   },
   "outputs": [],
   "source": [
    "col_to_clean = ['TOV%', 'FG%', '3P%', '2P%', 'eFG%', 'FT%', 'blanl', 'blank2', 'Tm', 'PTS', 'GS', 'G']\n",
    "stats_clean = stats.drop(col_to_clean, axis=1)"
   ]
  },
  {
   "cell_type": "code",
   "execution_count": 13,
   "metadata": {},
   "outputs": [
    {
     "data": {
      "text/html": [
       "<div>\n",
       "<style>\n",
       "    .dataframe thead tr:only-child th {\n",
       "        text-align: right;\n",
       "    }\n",
       "\n",
       "    .dataframe thead th {\n",
       "        text-align: left;\n",
       "    }\n",
       "\n",
       "    .dataframe tbody tr th {\n",
       "        vertical-align: top;\n",
       "    }\n",
       "</style>\n",
       "<table border=\"1\" class=\"dataframe\">\n",
       "  <thead>\n",
       "    <tr style=\"text-align: right;\">\n",
       "      <th></th>\n",
       "      <th>Year</th>\n",
       "      <th>Player</th>\n",
       "      <th>Pos</th>\n",
       "      <th>Age</th>\n",
       "      <th>MP</th>\n",
       "      <th>PER</th>\n",
       "      <th>TS%</th>\n",
       "      <th>3PAr</th>\n",
       "      <th>FTr</th>\n",
       "      <th>ORB%</th>\n",
       "      <th>...</th>\n",
       "      <th>FT</th>\n",
       "      <th>FTA</th>\n",
       "      <th>ORB</th>\n",
       "      <th>DRB</th>\n",
       "      <th>TRB</th>\n",
       "      <th>AST</th>\n",
       "      <th>STL</th>\n",
       "      <th>BLK</th>\n",
       "      <th>TOV</th>\n",
       "      <th>PF</th>\n",
       "    </tr>\n",
       "  </thead>\n",
       "  <tbody>\n",
       "    <tr>\n",
       "      <th>0</th>\n",
       "      <td>1991</td>\n",
       "      <td>Alaa Abdelnaby</td>\n",
       "      <td>PF</td>\n",
       "      <td>22.0</td>\n",
       "      <td>290.0</td>\n",
       "      <td>13.1</td>\n",
       "      <td>0.499</td>\n",
       "      <td>0.000</td>\n",
       "      <td>0.379</td>\n",
       "      <td>10.4</td>\n",
       "      <td>...</td>\n",
       "      <td>25.0</td>\n",
       "      <td>44.0</td>\n",
       "      <td>27.0</td>\n",
       "      <td>62.0</td>\n",
       "      <td>89.0</td>\n",
       "      <td>12.0</td>\n",
       "      <td>4.0</td>\n",
       "      <td>12.0</td>\n",
       "      <td>22.0</td>\n",
       "      <td>39.0</td>\n",
       "    </tr>\n",
       "    <tr>\n",
       "      <th>1</th>\n",
       "      <td>1991</td>\n",
       "      <td>Mahmoud Abdul-Rauf</td>\n",
       "      <td>PG</td>\n",
       "      <td>21.0</td>\n",
       "      <td>1505.0</td>\n",
       "      <td>12.2</td>\n",
       "      <td>0.448</td>\n",
       "      <td>0.099</td>\n",
       "      <td>0.097</td>\n",
       "      <td>1.9</td>\n",
       "      <td>...</td>\n",
       "      <td>84.0</td>\n",
       "      <td>98.0</td>\n",
       "      <td>34.0</td>\n",
       "      <td>87.0</td>\n",
       "      <td>121.0</td>\n",
       "      <td>206.0</td>\n",
       "      <td>55.0</td>\n",
       "      <td>4.0</td>\n",
       "      <td>110.0</td>\n",
       "      <td>149.0</td>\n",
       "    </tr>\n",
       "    <tr>\n",
       "      <th>2</th>\n",
       "      <td>1991</td>\n",
       "      <td>Mark Acres</td>\n",
       "      <td>C</td>\n",
       "      <td>28.0</td>\n",
       "      <td>1313.0</td>\n",
       "      <td>9.2</td>\n",
       "      <td>0.551</td>\n",
       "      <td>0.014</td>\n",
       "      <td>0.472</td>\n",
       "      <td>11.3</td>\n",
       "      <td>...</td>\n",
       "      <td>66.0</td>\n",
       "      <td>101.0</td>\n",
       "      <td>140.0</td>\n",
       "      <td>219.0</td>\n",
       "      <td>359.0</td>\n",
       "      <td>25.0</td>\n",
       "      <td>25.0</td>\n",
       "      <td>25.0</td>\n",
       "      <td>42.0</td>\n",
       "      <td>218.0</td>\n",
       "    </tr>\n",
       "    <tr>\n",
       "      <th>3</th>\n",
       "      <td>1991</td>\n",
       "      <td>Michael Adams</td>\n",
       "      <td>PG</td>\n",
       "      <td>28.0</td>\n",
       "      <td>2346.0</td>\n",
       "      <td>22.3</td>\n",
       "      <td>0.530</td>\n",
       "      <td>0.397</td>\n",
       "      <td>0.372</td>\n",
       "      <td>2.1</td>\n",
       "      <td>...</td>\n",
       "      <td>465.0</td>\n",
       "      <td>529.0</td>\n",
       "      <td>58.0</td>\n",
       "      <td>198.0</td>\n",
       "      <td>256.0</td>\n",
       "      <td>693.0</td>\n",
       "      <td>147.0</td>\n",
       "      <td>6.0</td>\n",
       "      <td>240.0</td>\n",
       "      <td>162.0</td>\n",
       "    </tr>\n",
       "    <tr>\n",
       "      <th>4</th>\n",
       "      <td>1991</td>\n",
       "      <td>Mark Aguirre</td>\n",
       "      <td>SF</td>\n",
       "      <td>31.0</td>\n",
       "      <td>2006.0</td>\n",
       "      <td>16.7</td>\n",
       "      <td>0.526</td>\n",
       "      <td>0.086</td>\n",
       "      <td>0.349</td>\n",
       "      <td>7.6</td>\n",
       "      <td>...</td>\n",
       "      <td>240.0</td>\n",
       "      <td>317.0</td>\n",
       "      <td>134.0</td>\n",
       "      <td>240.0</td>\n",
       "      <td>374.0</td>\n",
       "      <td>139.0</td>\n",
       "      <td>47.0</td>\n",
       "      <td>20.0</td>\n",
       "      <td>128.0</td>\n",
       "      <td>209.0</td>\n",
       "    </tr>\n",
       "  </tbody>\n",
       "</table>\n",
       "<p>5 rows × 40 columns</p>\n",
       "</div>"
      ],
      "text/plain": [
       "   Year              Player Pos   Age      MP   PER    TS%   3PAr    FTr  \\\n",
       "0  1991      Alaa Abdelnaby  PF  22.0   290.0  13.1  0.499  0.000  0.379   \n",
       "1  1991  Mahmoud Abdul-Rauf  PG  21.0  1505.0  12.2  0.448  0.099  0.097   \n",
       "2  1991          Mark Acres   C  28.0  1313.0   9.2  0.551  0.014  0.472   \n",
       "3  1991       Michael Adams  PG  28.0  2346.0  22.3  0.530  0.397  0.372   \n",
       "4  1991        Mark Aguirre  SF  31.0  2006.0  16.7  0.526  0.086  0.349   \n",
       "\n",
       "   ORB%  ...       FT    FTA    ORB    DRB    TRB    AST    STL   BLK    TOV  \\\n",
       "0  10.4  ...     25.0   44.0   27.0   62.0   89.0   12.0    4.0  12.0   22.0   \n",
       "1   1.9  ...     84.0   98.0   34.0   87.0  121.0  206.0   55.0   4.0  110.0   \n",
       "2  11.3  ...     66.0  101.0  140.0  219.0  359.0   25.0   25.0  25.0   42.0   \n",
       "3   2.1  ...    465.0  529.0   58.0  198.0  256.0  693.0  147.0   6.0  240.0   \n",
       "4   7.6  ...    240.0  317.0  134.0  240.0  374.0  139.0   47.0  20.0  128.0   \n",
       "\n",
       "      PF  \n",
       "0   39.0  \n",
       "1  149.0  \n",
       "2  218.0  \n",
       "3  162.0  \n",
       "4  209.0  \n",
       "\n",
       "[5 rows x 40 columns]"
      ]
     },
     "execution_count": 13,
     "metadata": {},
     "output_type": "execute_result"
    }
   ],
   "source": [
    "stats_clean.head()"
   ]
  },
  {
   "cell_type": "markdown",
   "metadata": {},
   "source": [
    "#### The only relevant information in the players dataset is the height and the weight. The date of birth is interesting as well (as power forward and centre tend to play older) but the age on the 1 February of the given season is already in the stats dataset.\n",
    "#### Because the players have unique names (checked at the beginning), we can merge the two dataframes using the 'Player' column."
   ]
  },
  {
   "cell_type": "code",
   "execution_count": 14,
   "metadata": {
    "collapsed": true
   },
   "outputs": [],
   "source": [
    "df_merged = pd.merge(players[['Player', 'height', 'weight']], stats_clean, how='inner', on='Player',\n",
    "         left_index=False, right_index=False, sort=True,\n",
    "         suffixes=('_x', '_y'), copy=True, indicator=False)"
   ]
  },
  {
   "cell_type": "code",
   "execution_count": 15,
   "metadata": {},
   "outputs": [
    {
     "data": {
      "text/html": [
       "<div>\n",
       "<style>\n",
       "    .dataframe thead tr:only-child th {\n",
       "        text-align: right;\n",
       "    }\n",
       "\n",
       "    .dataframe thead th {\n",
       "        text-align: left;\n",
       "    }\n",
       "\n",
       "    .dataframe tbody tr th {\n",
       "        vertical-align: top;\n",
       "    }\n",
       "</style>\n",
       "<table border=\"1\" class=\"dataframe\">\n",
       "  <thead>\n",
       "    <tr style=\"text-align: right;\">\n",
       "      <th></th>\n",
       "      <th>Player</th>\n",
       "      <th>height</th>\n",
       "      <th>weight</th>\n",
       "      <th>Year</th>\n",
       "      <th>Pos</th>\n",
       "      <th>Age</th>\n",
       "      <th>MP</th>\n",
       "      <th>PER</th>\n",
       "      <th>TS%</th>\n",
       "      <th>3PAr</th>\n",
       "      <th>...</th>\n",
       "      <th>FT</th>\n",
       "      <th>FTA</th>\n",
       "      <th>ORB</th>\n",
       "      <th>DRB</th>\n",
       "      <th>TRB</th>\n",
       "      <th>AST</th>\n",
       "      <th>STL</th>\n",
       "      <th>BLK</th>\n",
       "      <th>TOV</th>\n",
       "      <th>PF</th>\n",
       "    </tr>\n",
       "  </thead>\n",
       "  <tbody>\n",
       "    <tr>\n",
       "      <th>0</th>\n",
       "      <td>A.C. Green</td>\n",
       "      <td>203.0</td>\n",
       "      <td>106.0</td>\n",
       "      <td>1991</td>\n",
       "      <td>PF</td>\n",
       "      <td>27.0</td>\n",
       "      <td>2164.0</td>\n",
       "      <td>13.8</td>\n",
       "      <td>0.556</td>\n",
       "      <td>0.101</td>\n",
       "      <td>...</td>\n",
       "      <td>223.0</td>\n",
       "      <td>302.0</td>\n",
       "      <td>201.0</td>\n",
       "      <td>315.0</td>\n",
       "      <td>516.0</td>\n",
       "      <td>71.0</td>\n",
       "      <td>59.0</td>\n",
       "      <td>23.0</td>\n",
       "      <td>99.0</td>\n",
       "      <td>117.0</td>\n",
       "    </tr>\n",
       "    <tr>\n",
       "      <th>1</th>\n",
       "      <td>A.C. Green</td>\n",
       "      <td>203.0</td>\n",
       "      <td>106.0</td>\n",
       "      <td>1992</td>\n",
       "      <td>PF</td>\n",
       "      <td>28.0</td>\n",
       "      <td>2902.0</td>\n",
       "      <td>16.7</td>\n",
       "      <td>0.556</td>\n",
       "      <td>0.070</td>\n",
       "      <td>...</td>\n",
       "      <td>340.0</td>\n",
       "      <td>457.0</td>\n",
       "      <td>306.0</td>\n",
       "      <td>456.0</td>\n",
       "      <td>762.0</td>\n",
       "      <td>117.0</td>\n",
       "      <td>91.0</td>\n",
       "      <td>36.0</td>\n",
       "      <td>111.0</td>\n",
       "      <td>141.0</td>\n",
       "    </tr>\n",
       "    <tr>\n",
       "      <th>2</th>\n",
       "      <td>A.C. Green</td>\n",
       "      <td>203.0</td>\n",
       "      <td>106.0</td>\n",
       "      <td>1993</td>\n",
       "      <td>PF</td>\n",
       "      <td>29.0</td>\n",
       "      <td>2819.0</td>\n",
       "      <td>16.3</td>\n",
       "      <td>0.603</td>\n",
       "      <td>0.065</td>\n",
       "      <td>...</td>\n",
       "      <td>277.0</td>\n",
       "      <td>375.0</td>\n",
       "      <td>287.0</td>\n",
       "      <td>424.0</td>\n",
       "      <td>711.0</td>\n",
       "      <td>116.0</td>\n",
       "      <td>88.0</td>\n",
       "      <td>39.0</td>\n",
       "      <td>116.0</td>\n",
       "      <td>149.0</td>\n",
       "    </tr>\n",
       "    <tr>\n",
       "      <th>3</th>\n",
       "      <td>A.C. Green</td>\n",
       "      <td>203.0</td>\n",
       "      <td>106.0</td>\n",
       "      <td>1994</td>\n",
       "      <td>PF</td>\n",
       "      <td>30.0</td>\n",
       "      <td>2825.0</td>\n",
       "      <td>17.0</td>\n",
       "      <td>0.555</td>\n",
       "      <td>0.038</td>\n",
       "      <td>...</td>\n",
       "      <td>266.0</td>\n",
       "      <td>362.0</td>\n",
       "      <td>275.0</td>\n",
       "      <td>478.0</td>\n",
       "      <td>753.0</td>\n",
       "      <td>137.0</td>\n",
       "      <td>70.0</td>\n",
       "      <td>38.0</td>\n",
       "      <td>100.0</td>\n",
       "      <td>142.0</td>\n",
       "    </tr>\n",
       "    <tr>\n",
       "      <th>4</th>\n",
       "      <td>A.C. Green</td>\n",
       "      <td>203.0</td>\n",
       "      <td>106.0</td>\n",
       "      <td>1995</td>\n",
       "      <td>SF</td>\n",
       "      <td>31.0</td>\n",
       "      <td>2687.0</td>\n",
       "      <td>14.2</td>\n",
       "      <td>0.596</td>\n",
       "      <td>0.206</td>\n",
       "      <td>...</td>\n",
       "      <td>251.0</td>\n",
       "      <td>343.0</td>\n",
       "      <td>194.0</td>\n",
       "      <td>475.0</td>\n",
       "      <td>669.0</td>\n",
       "      <td>127.0</td>\n",
       "      <td>55.0</td>\n",
       "      <td>31.0</td>\n",
       "      <td>114.0</td>\n",
       "      <td>146.0</td>\n",
       "    </tr>\n",
       "  </tbody>\n",
       "</table>\n",
       "<p>5 rows × 42 columns</p>\n",
       "</div>"
      ],
      "text/plain": [
       "       Player  height  weight  Year Pos   Age      MP   PER    TS%   3PAr  \\\n",
       "0  A.C. Green   203.0   106.0  1991  PF  27.0  2164.0  13.8  0.556  0.101   \n",
       "1  A.C. Green   203.0   106.0  1992  PF  28.0  2902.0  16.7  0.556  0.070   \n",
       "2  A.C. Green   203.0   106.0  1993  PF  29.0  2819.0  16.3  0.603  0.065   \n",
       "3  A.C. Green   203.0   106.0  1994  PF  30.0  2825.0  17.0  0.555  0.038   \n",
       "4  A.C. Green   203.0   106.0  1995  SF  31.0  2687.0  14.2  0.596  0.206   \n",
       "\n",
       "   ...       FT    FTA    ORB    DRB    TRB    AST   STL   BLK    TOV     PF  \n",
       "0  ...    223.0  302.0  201.0  315.0  516.0   71.0  59.0  23.0   99.0  117.0  \n",
       "1  ...    340.0  457.0  306.0  456.0  762.0  117.0  91.0  36.0  111.0  141.0  \n",
       "2  ...    277.0  375.0  287.0  424.0  711.0  116.0  88.0  39.0  116.0  149.0  \n",
       "3  ...    266.0  362.0  275.0  478.0  753.0  137.0  70.0  38.0  100.0  142.0  \n",
       "4  ...    251.0  343.0  194.0  475.0  669.0  127.0  55.0  31.0  114.0  146.0  \n",
       "\n",
       "[5 rows x 42 columns]"
      ]
     },
     "execution_count": 15,
     "metadata": {},
     "output_type": "execute_result"
    }
   ],
   "source": [
    "df_merged.head()"
   ]
  },
  {
   "cell_type": "markdown",
   "metadata": {},
   "source": [
    "#### I will move the 'PS' column at the end and use it as a label and put the 'Year' column at the beginning as I won't use it to predict the position."
   ]
  },
  {
   "cell_type": "code",
   "execution_count": 16,
   "metadata": {
    "collapsed": true
   },
   "outputs": [],
   "source": [
    "cols = df_merged.columns.tolist()\n",
    "cols = cols[0:1] + cols[3:4] + cols[1:3] + cols[5:] + cols[4:5]\n",
    "df = df_merged[cols]"
   ]
  },
  {
   "cell_type": "markdown",
   "metadata": {},
   "source": [
    "#### I replace the NaN values with 0."
   ]
  },
  {
   "cell_type": "code",
   "execution_count": 17,
   "metadata": {
    "collapsed": true
   },
   "outputs": [],
   "source": [
    "df = df.fillna(0)"
   ]
  },
  {
   "cell_type": "markdown",
   "metadata": {},
   "source": [
    "#### Let's have a look at the labels:"
   ]
  },
  {
   "cell_type": "code",
   "execution_count": 18,
   "metadata": {},
   "outputs": [
    {
     "data": {
      "text/plain": [
       "PF       2845\n",
       "PG       2827\n",
       "SG       2677\n",
       "C        2663\n",
       "SF       2560\n",
       "PG-SG      27\n",
       "C-PF       23\n",
       "SG-SF      22\n",
       "SF-SG      21\n",
       "PF-C       20\n",
       "SG-PG      20\n",
       "PF-SF      17\n",
       "SF-PF      17\n",
       "SG-PF       3\n",
       "PG-SF       1\n",
       "C-SF        1\n",
       "Name: Pos, dtype: int64"
      ]
     },
     "execution_count": 18,
     "metadata": {},
     "output_type": "execute_result"
    }
   ],
   "source": [
    "df.Pos.value_counts()"
   ]
  },
  {
   "cell_type": "markdown",
   "metadata": {},
   "source": [
    "#### Let's keep only the 5 'single' positions as there is not enough data for the players who can have two different positions."
   ]
  },
  {
   "cell_type": "code",
   "execution_count": 19,
   "metadata": {
    "collapsed": true
   },
   "outputs": [],
   "source": [
    "df = df[df.Pos.isin(['PF', 'PG', 'C', 'SG', 'SF'])]"
   ]
  },
  {
   "cell_type": "markdown",
   "metadata": {},
   "source": [
    "## Classification using scikit-learn:"
   ]
  },
  {
   "cell_type": "code",
   "execution_count": 20,
   "metadata": {
    "collapsed": true
   },
   "outputs": [],
   "source": [
    "# Selecting Data and Target\n",
    "X = df.iloc[:, 2:-1]\n",
    "y = df.iloc[:, -1]"
   ]
  },
  {
   "cell_type": "code",
   "execution_count": 21,
   "metadata": {
    "collapsed": true
   },
   "outputs": [],
   "source": [
    "# Splitting the dataset into the Training set and Test set\n",
    "from sklearn.model_selection import train_test_split\n",
    "X_train, X_test, y_train, y_test = train_test_split(X, y, test_size = 0.3, random_state = 42)"
   ]
  },
  {
   "cell_type": "code",
   "execution_count": 22,
   "metadata": {
    "collapsed": true
   },
   "outputs": [],
   "source": [
    "# Feature Scaling\n",
    "from sklearn.preprocessing import StandardScaler\n",
    "sc = StandardScaler()\n",
    "X_train = sc.fit_transform(X_train)\n",
    "X_test = sc.transform(X_test)"
   ]
  },
  {
   "cell_type": "markdown",
   "metadata": {},
   "source": [
    "#### I'll try different models and see which one perform the best."
   ]
  },
  {
   "cell_type": "code",
   "execution_count": 23,
   "metadata": {
    "collapsed": true
   },
   "outputs": [],
   "source": [
    "from sklearn.neighbors import KNeighborsClassifier\n",
    "from sklearn.svm import SVC\n",
    "from sklearn.tree import DecisionTreeClassifier\n",
    "from sklearn.ensemble import RandomForestClassifier"
   ]
  },
  {
   "cell_type": "code",
   "execution_count": 24,
   "metadata": {
    "collapsed": true
   },
   "outputs": [],
   "source": [
    "classifiers = {\n",
    "    'K-Nearest Neighbours' : KNeighborsClassifier(3),\n",
    "    'Kernel SVM': SVC(kernel = 'rbf', random_state = 42),\n",
    "    'Desicion Tree' : DecisionTreeClassifier(max_depth=5, criterion = 'entropy', random_state = 42),\n",
    "    'Random Forest' : RandomForestClassifier(max_depth=5, n_estimators=10, max_features=1, \n",
    "                                             criterion = 'entropy', random_state = 42)}"
   ]
  },
  {
   "cell_type": "code",
   "execution_count": 25,
   "metadata": {},
   "outputs": [
    {
     "name": "stdout",
     "output_type": "stream",
     "text": [
      "CV Scoring for Random Forest:  [ 0.56624606  0.57991588  0.55608215  0.57345972  0.55426765]\n",
      "Mean of CV Scores for Random Forest:  0.565994289821 \n",
      "\n",
      "CV Scoring for Desicion Tree:  [ 0.67245005  0.68822292  0.68351764  0.70774092  0.67386723]\n",
      "Mean of CV Scores for Desicion Tree:  0.685159752322 \n",
      "\n",
      "CV Scoring for K-Nearest Neighbours:  [ 0.64931651  0.64721346  0.64454976  0.65455503  0.66069547]\n",
      "Mean of CV Scores for K-Nearest Neighbours:  0.651266045873 \n",
      "\n",
      "CV Scoring for Kernel SVM:  [ 0.73133544  0.73238696  0.7235387   0.75092154  0.73498419]\n",
      "Mean of CV Scores for Kernel SVM:  0.734633366719 \n",
      "\n"
     ]
    }
   ],
   "source": [
    "from sklearn.model_selection import cross_val_score\n",
    "\n",
    "for c in classifiers:\n",
    "    classifier = classifiers[c]\n",
    "    \n",
    "    cv_results = cross_val_score(classifier, X_train, y_train, cv=5, scoring='accuracy')\n",
    "    print('CV Scoring for {}: '.format(c), cv_results)\n",
    "    print('Mean of CV Scores for {}: '.format(c), np.mean(cv_results), '\\n')"
   ]
  },
  {
   "cell_type": "markdown",
   "metadata": {},
   "source": [
    "#### Kernel SVM has the best result. I'll use this algorithm to make predictions on the test set after I've tuned this model."
   ]
  },
  {
   "cell_type": "code",
   "execution_count": 26,
   "metadata": {},
   "outputs": [
    {
     "data": {
      "text/plain": [
       "GridSearchCV(cv=5, error_score='raise',\n",
       "       estimator=SVC(C=1.0, cache_size=200, class_weight=None, coef0=0.0,\n",
       "  decision_function_shape=None, degree=3, gamma='auto', kernel='rbf',\n",
       "  max_iter=-1, probability=False, random_state=42, shrinking=True,\n",
       "  tol=0.001, verbose=False),\n",
       "       fit_params={}, iid=True, n_jobs=1,\n",
       "       param_grid={'gamma': [0.001, 0.01, 0.1, 1], 'C': [0.001, 0.01, 0.1, 1, 10]},\n",
       "       pre_dispatch='2*n_jobs', refit=True, return_train_score=True,\n",
       "       scoring=None, verbose=0)"
      ]
     },
     "execution_count": 26,
     "metadata": {},
     "output_type": "execute_result"
    }
   ],
   "source": [
    "from sklearn.model_selection import GridSearchCV\n",
    "\n",
    "param_grid = {'C': [0.001, 0.01, 0.1, 1, 10], 'gamma' :[0.001, 0.01, 0.1, 1]}\n",
    "\n",
    "grid_search_kernelSVM = GridSearchCV(SVC(kernel='rbf', random_state = 42), param_grid, cv=5)\n",
    "\n",
    "grid_search_kernelSVM.fit(X_train, y_train)"
   ]
  },
  {
   "cell_type": "code",
   "execution_count": 27,
   "metadata": {},
   "outputs": [
    {
     "data": {
      "text/plain": [
       "{'C': 10, 'gamma': 0.01}"
      ]
     },
     "execution_count": 27,
     "metadata": {},
     "output_type": "execute_result"
    }
   ],
   "source": [
    "grid_search_kernelSVM.best_params_"
   ]
  },
  {
   "cell_type": "code",
   "execution_count": 28,
   "metadata": {},
   "outputs": [
    {
     "name": "stdout",
     "output_type": "stream",
     "text": [
      "Scoring on Training Data for Kernel SVM:  0.792842105263\n",
      "Scoring on Testing Data for Kernel SVM:  0.740913555992\n"
     ]
    }
   ],
   "source": [
    "classifier = grid_search_kernelSVM.best_estimator_\n",
    "    \n",
    "# Fitting the clasifier to the Training set\n",
    "classifier.fit(X_train, y_train)\n",
    "    \n",
    "# Predicting the Test set results\n",
    "y_pred = classifier.predict(X_test)\n",
    "    \n",
    "# Scores for Training and Test sets\n",
    "print('Scoring on Training Data for Kernel SVM: ', classifier.score(X_train, y_train))\n",
    "print('Scoring on Testing Data for Kernel SVM: ', classifier.score(X_test, y_test))"
   ]
  },
  {
   "cell_type": "code",
   "execution_count": 29,
   "metadata": {},
   "outputs": [
    {
     "data": {
      "image/png": "[encoded data removed]",
      "text/plain": [
       "<matplotlib.figure.Figure at 0x7f189007cfd0>"
      ]
     },
     "metadata": {},
     "output_type": "display_data"
    }
   ],
   "source": [
    "from sklearn.metrics import confusion_matrix\n",
    "\n",
    "cm = confusion_matrix(y_test, y_pred)\n",
    "\n",
    "# Plotting the Confusion Matrix\n",
    "def plot_cm(matrix, labels):\n",
    "        import matplotlib.pyplot as plt\n",
    "        import seaborn as sns\n",
    "        \n",
    "        sns.heatmap(matrix, annot = True, fmt='d', xticklabels = labels, yticklabels = labels,\n",
    "                    square = True, linewidths=1, cmap = 'Purples')\n",
    "        plt.xlabel('Predicted Label', fontsize=16)\n",
    "        plt.ylabel('True label', fontsize=16)\n",
    "        plt.title('Confusion matrix for the test set', fontsize=20)\n",
    "        plt.show()\n",
    "        \n",
    "plot_cm(cm, ['PG', 'SG', 'SF', 'PF', 'C'])"
   ]
  },
  {
   "cell_type": "markdown",
   "metadata": {
    "collapsed": true
   },
   "source": [
    "### These are good predictions as some players can be labelled with two different positions.\n",
    "### On top of that, the mistakes made by the model are not huge mistakes. For example, we can see that centers have sometimes been predicted as Small Forward (maybe because they are usually both good in defence) but never as Point Guard."
   ]
  },
  {
   "cell_type": "code",
   "execution_count": null,
   "metadata": {
    "collapsed": true
   },
   "outputs": [],
   "source": []
  }
 ],
 "metadata": {
  "kernelspec": {
   "display_name": "Python [conda root]",
   "language": "python",
   "name": "conda-root-py"
  },
  "language_info": {
   "codemirror_mode": {
    "name": "ipython",
    "version": 3
   },
   "file_extension": ".py",
   "mimetype": "text/x-python",
   "name": "python",
   "nbconvert_exporter": "python",
   "pygments_lexer": "ipython3",
   "version": "3.5.3"
  }
 },
 "nbformat": 4,
 "nbformat_minor": 2
}
